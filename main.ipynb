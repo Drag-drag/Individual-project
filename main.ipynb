{
 "cells": [
  {
   "cell_type": "code",
   "execution_count": null,
   "metadata": {},
   "outputs": [],
   "source": [
    "%pip install plotly\n",
    "%pip install numpy\n",
    "%pip install pandas\n",
    "%pip install scikit-learn\n",
    "%pip install scipy\n"
   ]
  },
  {
   "cell_type": "code",
   "execution_count": 3,
   "metadata": {},
   "outputs": [],
   "source": [
    "import pandas as pd\n",
    "import numpy as np\n",
    "import scipy as sp\n",
    "import scipy.stats as st\n",
    "import plotly.offline as py\n",
    "import plotly.graph_objs as go\n",
    "import os\n",
    "import re\n",
    "\n",
    "import numpy as np\n",
    "from sklearn.model_selection import train_test_split\n",
    "from sklearn.linear_model import LinearRegression\n",
    "from sklearn.metrics import r2_score, mean_squared_error\n"
   ]
  },
  {
   "cell_type": "code",
   "execution_count": 4,
   "metadata": {},
   "outputs": [
    {
     "data": {
      "text/html": [
       "        <script type=\"text/javascript\">\n",
       "        window.PlotlyConfig = {MathJaxConfig: 'local'};\n",
       "        if (window.MathJax && window.MathJax.Hub && window.MathJax.Hub.Config) {window.MathJax.Hub.Config({SVG: {font: \"STIX-Web\"}});}\n",
       "        if (typeof require !== 'undefined') {\n",
       "        require.undef(\"plotly\");\n",
       "        requirejs.config({\n",
       "            paths: {\n",
       "                'plotly': ['https://cdn.plot.ly/plotly-2.27.0.min']\n",
       "            }\n",
       "        });\n",
       "        require(['plotly'], function(Plotly) {\n",
       "            window._Plotly = Plotly;\n",
       "        });\n",
       "        }\n",
       "        </script>\n",
       "        "
      ]
     },
     "metadata": {},
     "output_type": "display_data"
    }
   ],
   "source": [
    "py.init_notebook_mode(connected=True)\n"
   ]
  },
  {
   "cell_type": "code",
   "execution_count": 5,
   "metadata": {},
   "outputs": [],
   "source": [
    "DATA_PATH = os.path.join('data')\n",
    "DATA_MAIN_PATH = os.path.join(DATA_PATH, 'wr236640a2.txt')\n",
    "DATA_METEOSTATIONS_PATH = os.path.join(DATA_PATH, 'statlist236640a2.txt')\n",
    "DATA_FIELDS_PATH = os.path.join(DATA_PATH, 'fld236640a2.txt')\n"
   ]
  },
  {
   "cell_type": "code",
   "execution_count": 6,
   "metadata": {},
   "outputs": [],
   "source": [
    "assert os.path.isdir(DATA_PATH)\n",
    "assert os.path.isfile(DATA_MAIN_PATH)\n",
    "assert os.path.isfile(DATA_METEOSTATIONS_PATH)\n",
    "assert os.path.isfile(DATA_FIELDS_PATH)\n"
   ]
  },
  {
   "cell_type": "code",
   "execution_count": 7,
   "metadata": {},
   "outputs": [],
   "source": [
    "meteostations = []\n",
    "with open(DATA_METEOSTATIONS_PATH, encoding=\"WINDOWS-1251\") as f:\n",
    "    for line in f.readlines():\n",
    "        m_data = re.split(\"\\s+\", line)[:-1]\n",
    "        if len(m_data) > 3:\n",
    "            m_name = \" \".join(m_data[1:-2]).strip()\n",
    "            meteostations.append([m_data[0], m_name, m_data[-1]])\n",
    "        else:\n",
    "            meteostations.append(m_data)\n",
    "for m_data in meteostations:\n",
    "    assert len(m_data) == 3\n",
    "df_meteostations = pd.DataFrame(meteostations, columns=[\"Индекс ВМО\", \"Название станции\", \"Страна\"])\n"
   ]
  },
  {
   "cell_type": "code",
   "execution_count": 8,
   "metadata": {},
   "outputs": [],
   "source": [
    "header = []\n",
    "with open(DATA_FIELDS_PATH, encoding=\"WINDOWS-1251\") as f:\n",
    "    header = [ \" \".join(re.split(\"\\s+\", s)[4:]).strip() for s in f.readlines() ]\n",
    "assert len(header) == 9\n"
   ]
  },
  {
   "cell_type": "code",
   "execution_count": 9,
   "metadata": {},
   "outputs": [],
   "source": [
    "df = pd.read_csv(DATA_MAIN_PATH, sep=\";\", header=None, names=header)\n"
   ]
  },
  {
   "cell_type": "code",
   "execution_count": null,
   "metadata": {},
   "outputs": [],
   "source": [
    "def change_station(index, month, day):\n",
    "    cur_station = df.loc[df['Индекс ВМО'] == index]\n",
    "    cur_station = cur_station.loc[cur_station['Месяц'] == month]\n",
    "    cur_station = cur_station.loc[cur_station['День'] == day]\n",
    "    return cur_station"
   ]
  },
  {
   "cell_type": "code",
   "execution_count": 39,
   "metadata": {},
   "outputs": [],
   "source": [
    "# cur_station = df.loc[df['Индекс ВМО'] == 27612]\n",
    "# cur_station = cur_station.loc[cur_station['Месяц'] == 1]\n",
    "# cur_station = cur_station.loc[cur_station['День'] == 1]\n"
   ]
  },
  {
   "cell_type": "code",
   "execution_count": 11,
   "metadata": {},
   "outputs": [],
   "source": [
    "# cur_station = cur_station[cur_station['Средняя температура воздуха'] != '     ']\n"
   ]
  },
  {
   "cell_type": "code",
   "execution_count": 12,
   "metadata": {},
   "outputs": [],
   "source": [
    "# df = df[df[\"Общий признак качества температур\"] != 9]\n",
    "# df = df.drop([\"Общий признак качества температур\"], axis=1)\n"
   ]
  },
  {
   "cell_type": "code",
   "execution_count": null,
   "metadata": {},
   "outputs": [],
   "source": [
    "# cur_station = change_station(27612, 1, 1)"
   ]
  },
  {
   "cell_type": "code",
   "execution_count": null,
   "metadata": {},
   "outputs": [],
   "source": [
    "def get_climate(station, column):\n",
    "    temp_df = station[['Индекс ВМО', 'Год', 'Месяц', 'День', column]]\n",
    "\n",
    "    X = temp_df.drop(column, axis=1)\n",
    "    y = temp_df[column]\n",
    "\n",
    "    X_train, X_test, y_train, y_test = train_test_split(X, y, test_size=0.1, random_state=3)\n",
    "\n",
    "    model = LinearRegression()\n",
    "    model.fit(X_train, y_train)\n",
    "\n",
    "    y_pred = model.predict(pd.DataFrame({'Индекс ВМО': [27612],\n",
    "                                        'Год': [2024],\n",
    "                                        'Месяц': [1],\n",
    "                                        'День': [1]}))\n",
    "\n",
    "    return y_pred"
   ]
  },
  {
   "cell_type": "code",
   "execution_count": 41,
   "metadata": {},
   "outputs": [],
   "source": [
    "# temp_df = cur_station[['Индекс ВМО', 'Год', 'Месяц', 'День', 'Средняя температура воздуха']]\n"
   ]
  },
  {
   "cell_type": "code",
   "execution_count": 42,
   "metadata": {},
   "outputs": [],
   "source": [
    "# X = temp_df.drop('Средняя температура воздуха', axis=1)\n",
    "# y = temp_df['Средняя температура воздуха']\n"
   ]
  },
  {
   "cell_type": "code",
   "execution_count": 43,
   "metadata": {},
   "outputs": [],
   "source": [
    "# X_train, X_test, y_train, y_test = train_test_split(X, y, test_size=0.1, random_state=3)\n"
   ]
  },
  {
   "cell_type": "code",
   "execution_count": 44,
   "metadata": {},
   "outputs": [],
   "source": [
    "# model = LinearRegression()\n",
    "# model.fit(X_train, y_train)\n",
    "\n",
    "# y_pred = model.predict(pd.DataFrame({'Индекс ВМО': [27612],\n",
    "#                                      'Год': [2024],\n",
    "#                                      'Месяц': [1],\n",
    "#                                      'День': [1]}))\n"
   ]
  },
  {
   "cell_type": "code",
   "execution_count": 45,
   "metadata": {},
   "outputs": [
    {
     "name": "stdout",
     "output_type": "stream",
     "text": [
      "[-4.60588542]\n"
     ]
    }
   ],
   "source": [
    "# print(y_pred)\n"
   ]
  },
  {
   "cell_type": "code",
   "execution_count": null,
   "metadata": {},
   "outputs": [],
   "source": [
    "# import sqlite3\n",
    "\n",
    "# conn = sqlite3.connect('test_db.sqlite')\n",
    "# temp_df.to_sql('employees', conn, if_exists='replace', index=False)\n",
    "# conn.close()"
   ]
  }
 ],
 "metadata": {
  "kernelspec": {
   "display_name": "venv",
   "language": "python",
   "name": "python3"
  },
  "language_info": {
   "codemirror_mode": {
    "name": "ipython",
    "version": 3
   },
   "file_extension": ".py",
   "mimetype": "text/x-python",
   "name": "python",
   "nbconvert_exporter": "python",
   "pygments_lexer": "ipython3",
   "version": "3.10.11"
  }
 },
 "nbformat": 4,
 "nbformat_minor": 2
}
